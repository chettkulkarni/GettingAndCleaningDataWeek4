{
  "nbformat": 4,
  "nbformat_minor": 0,
  "metadata": {
    "colab": {
      "name": "Wildfire_cause_prediction.ipynb",
      "provenance": [],
      "collapsed_sections": [],
      "toc_visible": true,
      "machine_shape": "hm",
      "include_colab_link": true
    },
    "kernelspec": {
      "name": "python3",
      "display_name": "Python 3"
    }
  },
  "cells": [
    {
      "cell_type": "markdown",
      "metadata": {
        "id": "view-in-github",
        "colab_type": "text"
      },
      "source": [
        "<a href=\"https://colab.research.google.com/github/chettkulkarni/GettingAndCleaningDataWeek4/blob/master/kuch_bhi.ipynb\" target=\"_parent\"><img src=\"https://colab.research.google.com/assets/colab-badge.svg\" alt=\"Open In Colab\"/></a>"
      ]
    },
    {
      "cell_type": "markdown",
      "metadata": {
        "id": "1e52p8v16XkV",
        "colab_type": "text"
      },
      "source": [
        "#**Wildfire Cause Prediction**\n",
        "\n",
        "##Team: FourReal\n",
        "\n",
        "1. Nupur Yadav\n",
        "2. Chetan Kulkarni\n",
        "3. Lokesh Vadlamudi\n",
        "4. Ronak Mehta"
      ]
    },
    {
      "cell_type": "markdown",
      "metadata": {
        "id": "MRJdyNcj7ABe",
        "colab_type": "text"
      },
      "source": [
        "##**Problem Definition:**\n",
        "\n",
        "The number of wildfire cases have drastically increased in the past few years, with more than 52,000 fires in 2018 alone. The goal of this project is to predict the cause of wildfire using meteorological and other weather related data such as location, day of the week, month, temperature and so on. This type of prediction can help government to monitor and mitigate impact of these fires by allocating proper resources based on the cause of fire."
      ]
    },
    {
      "cell_type": "markdown",
      "metadata": {
        "id": "Da1AzaygFydE",
        "colab_type": "text"
      },
      "source": [
        "##**Datasets:**\n",
        "\n",
        "We have taken our base dataset from kaggle (https://www.kaggle.com/rtatman/188-million-us-wildfires) which had 1.88 million historic fires from throughout the United States and during the period of\n",
        "1992-2015. It had features such as fire cause code (1-13) specifying what started the fire, fire cause description, latitude, and longitude, discovery date etc. \n",
        "\n",
        "In our dataset the fire cause code has values from 1-13 mapped to below fire cause description.\n",
        "\n",
        "1 - Lightning\n",
        "\n",
        "2 - Equipment Use\n",
        "\n",
        "3 - Smoking\n",
        "\n",
        "4 - Campfire\n",
        "\n",
        "5 - Debris Burning\n",
        "\n",
        "6 - Railroad\n",
        "\n",
        "7 - Arson\n",
        "\n",
        "8 - Children\n",
        "\n",
        "9 - Miscellaneous\n",
        "\n",
        "10 - Fireworks\n",
        "\n",
        "11 - Powerline\n",
        "\n",
        "12 - Structure\n",
        "\n",
        "13 - Missing/Undefined\n",
        "\n",
        "But it didn't have weather related data which was crucial for our prediction so we **amalgamated our base dataset with weather dataset from National Oceanic and Atmospheric Administration (ncdc.novaa.gov website)** and added fields such as Temperature, snow, precipitation, TOBS to our dataset."
      ]
    },
    {
      "cell_type": "markdown",
      "metadata": {
        "id": "RQ5cA1SPEkGC",
        "colab_type": "text"
      },
      "source": [
        "##**Importing necessary libraries and loading our base dataset**\n",
        "\n"
      ]
    },
    {
      "cell_type": "code",
      "metadata": {
        "id": "oo_DCUfOmi0X",
        "colab_type": "code",
        "colab": {}
      },
      "source": [
        "import warnings\n",
        "warnings.filterwarnings('ignore')"
      ],
      "execution_count": 0,
      "outputs": []
    },
    {
      "cell_type": "code",
      "metadata": {
        "id": "rizChCfwmntf",
        "colab_type": "code",
        "colab": {}
      },
      "source": [
        "import random\n",
        "random.seed(1)"
      ],
      "execution_count": 0,
      "outputs": []
    },
    {
      "cell_type": "code",
      "metadata": {
        "id": "XUgOBZc96EEX",
        "colab_type": "code",
        "colab": {}
      },
      "source": [
        "#Importing Libraries\n",
        "import sqlite3\n",
        "import pandas as pd\n",
        "from matplotlib import pyplot as plt\n",
        "from sklearn.cluster import KMeans\n",
        "from sklearn import tree, preprocessing\n",
        "\n",
        "import pandas as pd\n",
        "from sklearn.model_selection import train_test_split, KFold, cross_val_score\n",
        "from sklearn.metrics import accuracy_score, confusion_matrix, classification_report, fbeta_score\n",
        "import numpy as np\n",
        "import seaborn as sns\n",
        "import matplotlib.pyplot as plt\n",
        "import matplotlib.pyplot as plt2\n",
        "\n",
        "from sklearn.ensemble import RandomForestClassifier\n",
        "from sklearn.linear_model import LogisticRegression,LinearRegression\n",
        "from sklearn.tree import DecisionTreeClassifier\n",
        "from sklearn.neighbors import KNeighborsClassifier\n",
        "from sklearn.discriminant_analysis import LinearDiscriminantAnalysis\n",
        "from sklearn.naive_bayes import GaussianNB\n",
        "from sklearn.svm import SVC\n",
        "from xgboost import XGBClassifier\n",
        "from sklearn.cluster import KMeans\n",
        "from yellowbrick.cluster import KElbowVisualizer\n",
        "from sklearn.mixture import GaussianMixture as GMM\n",
        "from sklearn.decomposition import PCA\n",
        "\n",
        "\n",
        "%matplotlib inline\n",
        "\n",
        "\n",
        "#Importing Libraries\n",
        "import sqlite3\n",
        "import pandas as pd\n",
        "from matplotlib import pyplot as plt\n",
        "from sklearn.cluster import KMeans\n",
        "from sklearn import tree, preprocessing"
      ],
      "execution_count": 0,
      "outputs": []
    },
    {
      "cell_type": "code",
      "metadata": {
        "id": "v56bRLm6M7Nm",
        "colab_type": "code",
        "colab": {}
      },
      "source": [
        "# Code to read csv file into Colaboratory:\n",
        "!pip install -U -q PyDrive\n",
        "from pydrive.auth import GoogleAuth\n",
        "from pydrive.drive import GoogleDrive\n",
        "from google.colab import auth\n",
        "from oauth2client.client import GoogleCredentials\n",
        "# Authenticate and create the PyDrive client.\n",
        "auth.authenticate_user()\n",
        "gauth = GoogleAuth()\n",
        "gauth.credentials = GoogleCredentials.get_application_default()\n",
        "drive = GoogleDrive(gauth)"
      ],
      "execution_count": 0,
      "outputs": []
    },
    {
      "cell_type": "code",
      "metadata": {
        "id": "VKnVz-jhNJnk",
        "colab_type": "code",
        "outputId": "057d2acd-f588-4b9d-b6ad-710f4d3ba6fd",
        "colab": {
          "base_uri": "https://localhost:8080/",
          "height": 34
        }
      },
      "source": [
        "link = 'https://drive.google.com/open?id=1ApRYxyMqnFKH8XW1GbQ-KZNJdbdeEdV9'\n",
        "fluff, id = link.split('=')\n",
        "print (id) # Verify that you have everything after '='"
      ],
      "execution_count": 5,
      "outputs": [
        {
          "output_type": "stream",
          "text": [
            "1ApRYxyMqnFKH8XW1GbQ-KZNJdbdeEdV9\n"
          ],
          "name": "stdout"
        }
      ]
    },
    {
      "cell_type": "code",
      "metadata": {
        "id": "pVVI9r86NT-N",
        "colab_type": "code",
        "colab": {}
      },
      "source": [
        "downloaded = drive.CreateFile({'id':id}) \n",
        "downloaded.GetContentFile('Fire.csv')"
      ],
      "execution_count": 0,
      "outputs": []
    },
    {
      "cell_type": "code",
      "metadata": {
        "id": "BAaaWco3Nb13",
        "colab_type": "code",
        "colab": {}
      },
      "source": [
        "#Loading dataset into pandas dataframe\n",
        "df = pd.read_csv('Fire.csv')"
      ],
      "execution_count": 0,
      "outputs": []
    },
    {
      "cell_type": "code",
      "metadata": {
        "id": "6xehoO9dNnH6",
        "colab_type": "code",
        "outputId": "922b9289-6a53-4e4a-d970-833ef3c419f7",
        "colab": {
          "base_uri": "https://localhost:8080/",
          "height": 326
        }
      },
      "source": [
        "#Displaying first few records\n",
        "df.head()"
      ],
      "execution_count": 8,
      "outputs": [
        {
          "output_type": "execute_result",
          "data": {
            "text/html": [
              "<div>\n",
              "<style scoped>\n",
              "    .dataframe tbody tr th:only-of-type {\n",
              "        vertical-align: middle;\n",
              "    }\n",
              "\n",
              "    .dataframe tbody tr th {\n",
              "        vertical-align: top;\n",
              "    }\n",
              "\n",
              "    .dataframe thead th {\n",
              "        text-align: right;\n",
              "    }\n",
              "</style>\n",
              "<table border=\"1\" class=\"dataframe\">\n",
              "  <thead>\n",
              "    <tr style=\"text-align: right;\">\n",
              "      <th></th>\n",
              "      <th>Unnamed: 0</th>\n",
              "      <th>OBJECTID</th>\n",
              "      <th>FOD_ID</th>\n",
              "      <th>FPA_ID</th>\n",
              "      <th>SOURCE_SYSTEM_TYPE</th>\n",
              "      <th>SOURCE_SYSTEM</th>\n",
              "      <th>NWCG_REPORTING_AGENCY</th>\n",
              "      <th>NWCG_REPORTING_UNIT_ID</th>\n",
              "      <th>NWCG_REPORTING_UNIT_NAME</th>\n",
              "      <th>SOURCE_REPORTING_UNIT</th>\n",
              "      <th>SOURCE_REPORTING_UNIT_NAME</th>\n",
              "      <th>LOCAL_FIRE_REPORT_ID</th>\n",
              "      <th>LOCAL_INCIDENT_ID</th>\n",
              "      <th>FIRE_CODE</th>\n",
              "      <th>FIRE_NAME</th>\n",
              "      <th>ICS_209_INCIDENT_NUMBER</th>\n",
              "      <th>ICS_209_NAME</th>\n",
              "      <th>MTBS_ID</th>\n",
              "      <th>MTBS_FIRE_NAME</th>\n",
              "      <th>COMPLEX_NAME</th>\n",
              "      <th>FIRE_YEAR</th>\n",
              "      <th>DISCOVERY_DATE</th>\n",
              "      <th>DISCOVERY_DOY</th>\n",
              "      <th>DISCOVERY_TIME</th>\n",
              "      <th>STAT_CAUSE_CODE</th>\n",
              "      <th>STAT_CAUSE_DESCR</th>\n",
              "      <th>CONT_DATE</th>\n",
              "      <th>CONT_DOY</th>\n",
              "      <th>CONT_TIME</th>\n",
              "      <th>FIRE_SIZE</th>\n",
              "      <th>FIRE_SIZE_CLASS</th>\n",
              "      <th>LATITUDE</th>\n",
              "      <th>LONGITUDE</th>\n",
              "      <th>OWNER_CODE</th>\n",
              "      <th>OWNER_DESCR</th>\n",
              "      <th>STATE</th>\n",
              "      <th>COUNTY</th>\n",
              "      <th>FIPS_CODE</th>\n",
              "      <th>FIPS_NAME</th>\n",
              "      <th>Shape</th>\n",
              "    </tr>\n",
              "  </thead>\n",
              "  <tbody>\n",
              "    <tr>\n",
              "      <th>0</th>\n",
              "      <td>0</td>\n",
              "      <td>1</td>\n",
              "      <td>1</td>\n",
              "      <td>FS-1418826</td>\n",
              "      <td>FED</td>\n",
              "      <td>FS-FIRESTAT</td>\n",
              "      <td>FS</td>\n",
              "      <td>USCAPNF</td>\n",
              "      <td>Plumas National Forest</td>\n",
              "      <td>511</td>\n",
              "      <td>Plumas National Forest</td>\n",
              "      <td>1</td>\n",
              "      <td>PNF-47</td>\n",
              "      <td>BJ8K</td>\n",
              "      <td>FOUNTAIN</td>\n",
              "      <td>NaN</td>\n",
              "      <td>NaN</td>\n",
              "      <td>NaN</td>\n",
              "      <td>NaN</td>\n",
              "      <td>NaN</td>\n",
              "      <td>2005</td>\n",
              "      <td>2453403.5</td>\n",
              "      <td>33</td>\n",
              "      <td>1300.0</td>\n",
              "      <td>9.0</td>\n",
              "      <td>Miscellaneous</td>\n",
              "      <td>2453403.5</td>\n",
              "      <td>33.0</td>\n",
              "      <td>1730.0</td>\n",
              "      <td>0.10</td>\n",
              "      <td>A</td>\n",
              "      <td>40.036944</td>\n",
              "      <td>-121.005833</td>\n",
              "      <td>5.0</td>\n",
              "      <td>USFS</td>\n",
              "      <td>CA</td>\n",
              "      <td>63</td>\n",
              "      <td>63.0</td>\n",
              "      <td>Plumas</td>\n",
              "      <td>b'\\x00\\x01\\xad\\x10\\x00\\x00\\xe8d\\xc2\\x92_@^\\xc0...</td>\n",
              "    </tr>\n",
              "    <tr>\n",
              "      <th>1</th>\n",
              "      <td>1</td>\n",
              "      <td>2</td>\n",
              "      <td>2</td>\n",
              "      <td>FS-1418827</td>\n",
              "      <td>FED</td>\n",
              "      <td>FS-FIRESTAT</td>\n",
              "      <td>FS</td>\n",
              "      <td>USCAENF</td>\n",
              "      <td>Eldorado National Forest</td>\n",
              "      <td>503</td>\n",
              "      <td>Eldorado National Forest</td>\n",
              "      <td>13</td>\n",
              "      <td>13</td>\n",
              "      <td>AAC0</td>\n",
              "      <td>PIGEON</td>\n",
              "      <td>NaN</td>\n",
              "      <td>NaN</td>\n",
              "      <td>NaN</td>\n",
              "      <td>NaN</td>\n",
              "      <td>NaN</td>\n",
              "      <td>2004</td>\n",
              "      <td>2453137.5</td>\n",
              "      <td>133</td>\n",
              "      <td>845.0</td>\n",
              "      <td>1.0</td>\n",
              "      <td>Lightning</td>\n",
              "      <td>2453137.5</td>\n",
              "      <td>133.0</td>\n",
              "      <td>1530.0</td>\n",
              "      <td>0.25</td>\n",
              "      <td>A</td>\n",
              "      <td>38.933056</td>\n",
              "      <td>-120.404444</td>\n",
              "      <td>5.0</td>\n",
              "      <td>USFS</td>\n",
              "      <td>CA</td>\n",
              "      <td>61</td>\n",
              "      <td>61.0</td>\n",
              "      <td>Placer</td>\n",
              "      <td>b'\\x00\\x01\\xad\\x10\\x00\\x00T\\xb6\\xeej\\xe2\\x19^\\...</td>\n",
              "    </tr>\n",
              "    <tr>\n",
              "      <th>2</th>\n",
              "      <td>2</td>\n",
              "      <td>3</td>\n",
              "      <td>3</td>\n",
              "      <td>FS-1418835</td>\n",
              "      <td>FED</td>\n",
              "      <td>FS-FIRESTAT</td>\n",
              "      <td>FS</td>\n",
              "      <td>USCAENF</td>\n",
              "      <td>Eldorado National Forest</td>\n",
              "      <td>503</td>\n",
              "      <td>Eldorado National Forest</td>\n",
              "      <td>27</td>\n",
              "      <td>021</td>\n",
              "      <td>A32W</td>\n",
              "      <td>SLACK</td>\n",
              "      <td>NaN</td>\n",
              "      <td>NaN</td>\n",
              "      <td>NaN</td>\n",
              "      <td>NaN</td>\n",
              "      <td>NaN</td>\n",
              "      <td>2004</td>\n",
              "      <td>2453156.5</td>\n",
              "      <td>152</td>\n",
              "      <td>1921.0</td>\n",
              "      <td>5.0</td>\n",
              "      <td>Debris Burning</td>\n",
              "      <td>2453156.5</td>\n",
              "      <td>152.0</td>\n",
              "      <td>2024.0</td>\n",
              "      <td>0.10</td>\n",
              "      <td>A</td>\n",
              "      <td>38.984167</td>\n",
              "      <td>-120.735556</td>\n",
              "      <td>13.0</td>\n",
              "      <td>STATE OR PRIVATE</td>\n",
              "      <td>CA</td>\n",
              "      <td>17</td>\n",
              "      <td>17.0</td>\n",
              "      <td>El Dorado</td>\n",
              "      <td>b'\\x00\\x01\\xad\\x10\\x00\\x00\\xd0\\xa5\\xa0W\\x13/^\\...</td>\n",
              "    </tr>\n",
              "    <tr>\n",
              "      <th>3</th>\n",
              "      <td>3</td>\n",
              "      <td>4</td>\n",
              "      <td>4</td>\n",
              "      <td>FS-1418845</td>\n",
              "      <td>FED</td>\n",
              "      <td>FS-FIRESTAT</td>\n",
              "      <td>FS</td>\n",
              "      <td>USCAENF</td>\n",
              "      <td>Eldorado National Forest</td>\n",
              "      <td>503</td>\n",
              "      <td>Eldorado National Forest</td>\n",
              "      <td>43</td>\n",
              "      <td>6</td>\n",
              "      <td>NaN</td>\n",
              "      <td>DEER</td>\n",
              "      <td>NaN</td>\n",
              "      <td>NaN</td>\n",
              "      <td>NaN</td>\n",
              "      <td>NaN</td>\n",
              "      <td>NaN</td>\n",
              "      <td>2004</td>\n",
              "      <td>2453184.5</td>\n",
              "      <td>180</td>\n",
              "      <td>1600.0</td>\n",
              "      <td>1.0</td>\n",
              "      <td>Lightning</td>\n",
              "      <td>2453189.5</td>\n",
              "      <td>185.0</td>\n",
              "      <td>1400.0</td>\n",
              "      <td>0.10</td>\n",
              "      <td>A</td>\n",
              "      <td>38.559167</td>\n",
              "      <td>-119.913333</td>\n",
              "      <td>5.0</td>\n",
              "      <td>USFS</td>\n",
              "      <td>CA</td>\n",
              "      <td>3</td>\n",
              "      <td>3.0</td>\n",
              "      <td>Alpine</td>\n",
              "      <td>b'\\x00\\x01\\xad\\x10\\x00\\x00\\x94\\xac\\xa3\\rt\\xfa]...</td>\n",
              "    </tr>\n",
              "    <tr>\n",
              "      <th>4</th>\n",
              "      <td>4</td>\n",
              "      <td>5</td>\n",
              "      <td>5</td>\n",
              "      <td>FS-1418847</td>\n",
              "      <td>FED</td>\n",
              "      <td>FS-FIRESTAT</td>\n",
              "      <td>FS</td>\n",
              "      <td>USCAENF</td>\n",
              "      <td>Eldorado National Forest</td>\n",
              "      <td>503</td>\n",
              "      <td>Eldorado National Forest</td>\n",
              "      <td>44</td>\n",
              "      <td>7</td>\n",
              "      <td>NaN</td>\n",
              "      <td>STEVENOT</td>\n",
              "      <td>NaN</td>\n",
              "      <td>NaN</td>\n",
              "      <td>NaN</td>\n",
              "      <td>NaN</td>\n",
              "      <td>NaN</td>\n",
              "      <td>2004</td>\n",
              "      <td>2453184.5</td>\n",
              "      <td>180</td>\n",
              "      <td>1600.0</td>\n",
              "      <td>1.0</td>\n",
              "      <td>Lightning</td>\n",
              "      <td>2453189.5</td>\n",
              "      <td>185.0</td>\n",
              "      <td>1200.0</td>\n",
              "      <td>0.10</td>\n",
              "      <td>A</td>\n",
              "      <td>38.559167</td>\n",
              "      <td>-119.933056</td>\n",
              "      <td>5.0</td>\n",
              "      <td>USFS</td>\n",
              "      <td>CA</td>\n",
              "      <td>3</td>\n",
              "      <td>3.0</td>\n",
              "      <td>Alpine</td>\n",
              "      <td>b'\\x00\\x01\\xad\\x10\\x00\\x00@\\xe3\\xaa.\\xb7\\xfb]\\...</td>\n",
              "    </tr>\n",
              "  </tbody>\n",
              "</table>\n",
              "</div>"
            ],
            "text/plain": [
              "   Unnamed: 0  ...                                              Shape\n",
              "0           0  ...  b'\\x00\\x01\\xad\\x10\\x00\\x00\\xe8d\\xc2\\x92_@^\\xc0...\n",
              "1           1  ...  b'\\x00\\x01\\xad\\x10\\x00\\x00T\\xb6\\xeej\\xe2\\x19^\\...\n",
              "2           2  ...  b'\\x00\\x01\\xad\\x10\\x00\\x00\\xd0\\xa5\\xa0W\\x13/^\\...\n",
              "3           3  ...  b'\\x00\\x01\\xad\\x10\\x00\\x00\\x94\\xac\\xa3\\rt\\xfa]...\n",
              "4           4  ...  b'\\x00\\x01\\xad\\x10\\x00\\x00@\\xe3\\xaa.\\xb7\\xfb]\\...\n",
              "\n",
              "[5 rows x 40 columns]"
            ]
          },
          "metadata": {
            "tags": []
          },
          "execution_count": 8
        }
      ]
    },
    {
      "cell_type": "markdown",
      "metadata": {
        "id": "AHh20_Z2NzLm",
        "colab_type": "text"
      },
      "source": [
        "##**Preprocessing data**"
      ]
    },
    {
      "cell_type": "code",
      "metadata": {
        "id": "NGGzZ7C7OAmB",
        "colab_type": "code",
        "outputId": "b8a61d04-9bb5-4804-a869-03a267da4fbf",
        "colab": {
          "base_uri": "https://localhost:8080/",
          "height": 225
        }
      },
      "source": [
        "#Checking the columns in dataset\n",
        "df.columns"
      ],
      "execution_count": 9,
      "outputs": [
        {
          "output_type": "execute_result",
          "data": {
            "text/plain": [
              "Index(['Unnamed: 0', 'OBJECTID', 'FOD_ID', 'FPA_ID', 'SOURCE_SYSTEM_TYPE',\n",
              "       'SOURCE_SYSTEM', 'NWCG_REPORTING_AGENCY', 'NWCG_REPORTING_UNIT_ID',\n",
              "       'NWCG_REPORTING_UNIT_NAME', 'SOURCE_REPORTING_UNIT',\n",
              "       'SOURCE_REPORTING_UNIT_NAME', 'LOCAL_FIRE_REPORT_ID',\n",
              "       'LOCAL_INCIDENT_ID', 'FIRE_CODE', 'FIRE_NAME',\n",
              "       'ICS_209_INCIDENT_NUMBER', 'ICS_209_NAME', 'MTBS_ID', 'MTBS_FIRE_NAME',\n",
              "       'COMPLEX_NAME', 'FIRE_YEAR', 'DISCOVERY_DATE', 'DISCOVERY_DOY',\n",
              "       'DISCOVERY_TIME', 'STAT_CAUSE_CODE', 'STAT_CAUSE_DESCR', 'CONT_DATE',\n",
              "       'CONT_DOY', 'CONT_TIME', 'FIRE_SIZE', 'FIRE_SIZE_CLASS', 'LATITUDE',\n",
              "       'LONGITUDE', 'OWNER_CODE', 'OWNER_DESCR', 'STATE', 'COUNTY',\n",
              "       'FIPS_CODE', 'FIPS_NAME', 'Shape'],\n",
              "      dtype='object')"
            ]
          },
          "metadata": {
            "tags": []
          },
          "execution_count": 9
        }
      ]
    },
    {
      "cell_type": "code",
      "metadata": {
        "id": "BDMyLv7jOID0",
        "colab_type": "code",
        "outputId": "a8709e34-5ed5-47fa-f1b6-a916ccd0834b",
        "colab": {
          "base_uri": "https://localhost:8080/",
          "height": 34
        }
      },
      "source": [
        "#Displaying the shape of data\n",
        "df.shape"
      ],
      "execution_count": 10,
      "outputs": [
        {
          "output_type": "execute_result",
          "data": {
            "text/plain": [
              "(1880465, 40)"
            ]
          },
          "metadata": {
            "tags": []
          },
          "execution_count": 10
        }
      ]
    },
    {
      "cell_type": "code",
      "metadata": {
        "id": "Xz1D0sdMOT4L",
        "colab_type": "code",
        "colab": {}
      },
      "source": [
        "#Creating a new data frame with required columns\n",
        "df = df[['FIRE_YEAR','STAT_CAUSE_CODE','STAT_CAUSE_DESCR','LATITUDE','LONGITUDE','STATE','DISCOVERY_DATE','FIRE_SIZE']].copy()"
      ],
      "execution_count": 0,
      "outputs": []
    },
    {
      "cell_type": "code",
      "metadata": {
        "id": "uaNLz0yH7GmW",
        "colab_type": "code",
        "outputId": "108f7edb-e608-4b7c-ade4-88131e9f1770",
        "colab": {
          "base_uri": "https://localhost:8080/",
          "height": 173
        }
      },
      "source": [
        "#Checking for the missing values in the dataset\n",
        "df.isnull().sum()"
      ],
      "execution_count": 12,
      "outputs": [
        {
          "output_type": "execute_result",
          "data": {
            "text/plain": [
              "FIRE_YEAR           0\n",
              "STAT_CAUSE_CODE     0\n",
              "STAT_CAUSE_DESCR    0\n",
              "LATITUDE            0\n",
              "LONGITUDE           0\n",
              "STATE               0\n",
              "DISCOVERY_DATE      0\n",
              "FIRE_SIZE           0\n",
              "dtype: int64"
            ]
          },
          "metadata": {
            "tags": []
          },
          "execution_count": 12
        }
      ]
    },
    {
      "cell_type": "markdown",
      "metadata": {
        "id": "LxKs81RjGQI1",
        "colab_type": "text"
      },
      "source": [
        "As we can see our dataset don't have any missing values."
      ]
    },
    {
      "cell_type": "code",
      "metadata": {
        "id": "EcKvM3x5Oqf4",
        "colab_type": "code",
        "outputId": "04458725-e8c9-47a1-aa36-8c50e3352e2b",
        "colab": {
          "base_uri": "https://localhost:8080/",
          "height": 202
        }
      },
      "source": [
        "#Displaying top 5 records\n",
        "df.head()"
      ],
      "execution_count": 13,
      "outputs": [
        {
          "output_type": "execute_result",
          "data": {
            "text/html": [
              "<div>\n",
              "<style scoped>\n",
              "    .dataframe tbody tr th:only-of-type {\n",
              "        vertical-align: middle;\n",
              "    }\n",
              "\n",
              "    .dataframe tbody tr th {\n",
              "        vertical-align: top;\n",
              "    }\n",
              "\n",
              "    .dataframe thead th {\n",
              "        text-align: right;\n",
              "    }\n",
              "</style>\n",
              "<table border=\"1\" class=\"dataframe\">\n",
              "  <thead>\n",
              "    <tr style=\"text-align: right;\">\n",
              "      <th></th>\n",
              "      <th>FIRE_YEAR</th>\n",
              "      <th>STAT_CAUSE_CODE</th>\n",
              "      <th>STAT_CAUSE_DESCR</th>\n",
              "      <th>LATITUDE</th>\n",
              "      <th>LONGITUDE</th>\n",
              "      <th>STATE</th>\n",
              "      <th>DISCOVERY_DATE</th>\n",
              "      <th>FIRE_SIZE</th>\n",
              "    </tr>\n",
              "  </thead>\n",
              "  <tbody>\n",
              "    <tr>\n",
              "      <th>0</th>\n",
              "      <td>2005</td>\n",
              "      <td>9.0</td>\n",
              "      <td>Miscellaneous</td>\n",
              "      <td>40.036944</td>\n",
              "      <td>-121.005833</td>\n",
              "      <td>CA</td>\n",
              "      <td>2453403.5</td>\n",
              "      <td>0.10</td>\n",
              "    </tr>\n",
              "    <tr>\n",
              "      <th>1</th>\n",
              "      <td>2004</td>\n",
              "      <td>1.0</td>\n",
              "      <td>Lightning</td>\n",
              "      <td>38.933056</td>\n",
              "      <td>-120.404444</td>\n",
              "      <td>CA</td>\n",
              "      <td>2453137.5</td>\n",
              "      <td>0.25</td>\n",
              "    </tr>\n",
              "    <tr>\n",
              "      <th>2</th>\n",
              "      <td>2004</td>\n",
              "      <td>5.0</td>\n",
              "      <td>Debris Burning</td>\n",
              "      <td>38.984167</td>\n",
              "      <td>-120.735556</td>\n",
              "      <td>CA</td>\n",
              "      <td>2453156.5</td>\n",
              "      <td>0.10</td>\n",
              "    </tr>\n",
              "    <tr>\n",
              "      <th>3</th>\n",
              "      <td>2004</td>\n",
              "      <td>1.0</td>\n",
              "      <td>Lightning</td>\n",
              "      <td>38.559167</td>\n",
              "      <td>-119.913333</td>\n",
              "      <td>CA</td>\n",
              "      <td>2453184.5</td>\n",
              "      <td>0.10</td>\n",
              "    </tr>\n",
              "    <tr>\n",
              "      <th>4</th>\n",
              "      <td>2004</td>\n",
              "      <td>1.0</td>\n",
              "      <td>Lightning</td>\n",
              "      <td>38.559167</td>\n",
              "      <td>-119.933056</td>\n",
              "      <td>CA</td>\n",
              "      <td>2453184.5</td>\n",
              "      <td>0.10</td>\n",
              "    </tr>\n",
              "  </tbody>\n",
              "</table>\n",
              "</div>"
            ],
            "text/plain": [
              "   FIRE_YEAR  STAT_CAUSE_CODE STAT_CAUSE_DESCR  ...  STATE  DISCOVERY_DATE FIRE_SIZE\n",
              "0       2005              9.0    Miscellaneous  ...     CA       2453403.5      0.10\n",
              "1       2004              1.0        Lightning  ...     CA       2453137.5      0.25\n",
              "2       2004              5.0   Debris Burning  ...     CA       2453156.5      0.10\n",
              "3       2004              1.0        Lightning  ...     CA       2453184.5      0.10\n",
              "4       2004              1.0        Lightning  ...     CA       2453184.5      0.10\n",
              "\n",
              "[5 rows x 8 columns]"
            ]
          },
          "metadata": {
            "tags": []
          },
          "execution_count": 13
        }
      ]
    },
    {
      "cell_type": "code",
      "metadata": {
        "id": "iNMIVWhuznlD",
        "colab_type": "code",
        "outputId": "af3076a4-730a-4f4a-f00f-2ebbafd9e73a",
        "colab": {
          "base_uri": "https://localhost:8080/",
          "height": 202
        }
      },
      "source": [
        "#Converting the DISCOVERY_DATE field's Julian Date format in Gregorian dates\n",
        "df['DATE'] = pd.to_datetime(df['DISCOVERY_DATE'] - pd.Timestamp(0).to_julian_date(), unit='D')\n",
        "df.head() #check the data"
      ],
      "execution_count": 14,
      "outputs": [
        {
          "output_type": "execute_result",
          "data": {
            "text/html": [
              "<div>\n",
              "<style scoped>\n",
              "    .dataframe tbody tr th:only-of-type {\n",
              "        vertical-align: middle;\n",
              "    }\n",
              "\n",
              "    .dataframe tbody tr th {\n",
              "        vertical-align: top;\n",
              "    }\n",
              "\n",
              "    .dataframe thead th {\n",
              "        text-align: right;\n",
              "    }\n",
              "</style>\n",
              "<table border=\"1\" class=\"dataframe\">\n",
              "  <thead>\n",
              "    <tr style=\"text-align: right;\">\n",
              "      <th></th>\n",
              "      <th>FIRE_YEAR</th>\n",
              "      <th>STAT_CAUSE_CODE</th>\n",
              "      <th>STAT_CAUSE_DESCR</th>\n",
              "      <th>LATITUDE</th>\n",
              "      <th>LONGITUDE</th>\n",
              "      <th>STATE</th>\n",
              "      <th>DISCOVERY_DATE</th>\n",
              "      <th>FIRE_SIZE</th>\n",
              "      <th>DATE</th>\n",
              "    </tr>\n",
              "  </thead>\n",
              "  <tbody>\n",
              "    <tr>\n",
              "      <th>0</th>\n",
              "      <td>2005</td>\n",
              "      <td>9.0</td>\n",
              "      <td>Miscellaneous</td>\n",
              "      <td>40.036944</td>\n",
              "      <td>-121.005833</td>\n",
              "      <td>CA</td>\n",
              "      <td>2453403.5</td>\n",
              "      <td>0.10</td>\n",
              "      <td>2005-02-02</td>\n",
              "    </tr>\n",
              "    <tr>\n",
              "      <th>1</th>\n",
              "      <td>2004</td>\n",
              "      <td>1.0</td>\n",
              "      <td>Lightning</td>\n",
              "      <td>38.933056</td>\n",
              "      <td>-120.404444</td>\n",
              "      <td>CA</td>\n",
              "      <td>2453137.5</td>\n",
              "      <td>0.25</td>\n",
              "      <td>2004-05-12</td>\n",
              "    </tr>\n",
              "    <tr>\n",
              "      <th>2</th>\n",
              "      <td>2004</td>\n",
              "      <td>5.0</td>\n",
              "      <td>Debris Burning</td>\n",
              "      <td>38.984167</td>\n",
              "      <td>-120.735556</td>\n",
              "      <td>CA</td>\n",
              "      <td>2453156.5</td>\n",
              "      <td>0.10</td>\n",
              "      <td>2004-05-31</td>\n",
              "    </tr>\n",
              "    <tr>\n",
              "      <th>3</th>\n",
              "      <td>2004</td>\n",
              "      <td>1.0</td>\n",
              "      <td>Lightning</td>\n",
              "      <td>38.559167</td>\n",
              "      <td>-119.913333</td>\n",
              "      <td>CA</td>\n",
              "      <td>2453184.5</td>\n",
              "      <td>0.10</td>\n",
              "      <td>2004-06-28</td>\n",
              "    </tr>\n",
              "    <tr>\n",
              "      <th>4</th>\n",
              "      <td>2004</td>\n",
              "      <td>1.0</td>\n",
              "      <td>Lightning</td>\n",
              "      <td>38.559167</td>\n",
              "      <td>-119.933056</td>\n",
              "      <td>CA</td>\n",
              "      <td>2453184.5</td>\n",
              "      <td>0.10</td>\n",
              "      <td>2004-06-28</td>\n",
              "    </tr>\n",
              "  </tbody>\n",
              "</table>\n",
              "</div>"
            ],
            "text/plain": [
              "   FIRE_YEAR  STAT_CAUSE_CODE  ... FIRE_SIZE       DATE\n",
              "0       2005              9.0  ...      0.10 2005-02-02\n",
              "1       2004              1.0  ...      0.25 2004-05-12\n",
              "2       2004              5.0  ...      0.10 2004-05-31\n",
              "3       2004              1.0  ...      0.10 2004-06-28\n",
              "4       2004              1.0  ...      0.10 2004-06-28\n",
              "\n",
              "[5 rows x 9 columns]"
            ]
          },
          "metadata": {
            "tags": []
          },
          "execution_count": 14
        }
      ]
    },
    {
      "cell_type": "code",
      "metadata": {
        "id": "cd537HiMzxnP",
        "colab_type": "code",
        "outputId": "3784ffc5-d214-4c6e-eea0-d138701e62f4",
        "colab": {
          "base_uri": "https://localhost:8080/",
          "height": 202
        }
      },
      "source": [
        "#Getting some additional data fields such as month and day of the week.\n",
        "df['MONTH'] = pd.DatetimeIndex(df['DATE']).month\n",
        "df['DAY_OF_WEEK'] = df['DATE'].dt.dayofweek\n",
        "df.head()"
      ],
      "execution_count": 15,
      "outputs": [
        {
          "output_type": "execute_result",
          "data": {
            "text/html": [
              "<div>\n",
              "<style scoped>\n",
              "    .dataframe tbody tr th:only-of-type {\n",
              "        vertical-align: middle;\n",
              "    }\n",
              "\n",
              "    .dataframe tbody tr th {\n",
              "        vertical-align: top;\n",
              "    }\n",
              "\n",
              "    .dataframe thead th {\n",
              "        text-align: right;\n",
              "    }\n",
              "</style>\n",
              "<table border=\"1\" class=\"dataframe\">\n",
              "  <thead>\n",
              "    <tr style=\"text-align: right;\">\n",
              "      <th></th>\n",
              "      <th>FIRE_YEAR</th>\n",
              "      <th>STAT_CAUSE_CODE</th>\n",
              "      <th>STAT_CAUSE_DESCR</th>\n",
              "      <th>LATITUDE</th>\n",
              "      <th>LONGITUDE</th>\n",
              "      <th>STATE</th>\n",
              "      <th>DISCOVERY_DATE</th>\n",
              "      <th>FIRE_SIZE</th>\n",
              "      <th>DATE</th>\n",
              "      <th>MONTH</th>\n",
              "      <th>DAY_OF_WEEK</th>\n",
              "    </tr>\n",
              "  </thead>\n",
              "  <tbody>\n",
              "    <tr>\n",
              "      <th>0</th>\n",
              "      <td>2005</td>\n",
              "      <td>9.0</td>\n",
              "      <td>Miscellaneous</td>\n",
              "      <td>40.036944</td>\n",
              "      <td>-121.005833</td>\n",
              "      <td>CA</td>\n",
              "      <td>2453403.5</td>\n",
              "      <td>0.10</td>\n",
              "      <td>2005-02-02</td>\n",
              "      <td>2</td>\n",
              "      <td>2</td>\n",
              "    </tr>\n",
              "    <tr>\n",
              "      <th>1</th>\n",
              "      <td>2004</td>\n",
              "      <td>1.0</td>\n",
              "      <td>Lightning</td>\n",
              "      <td>38.933056</td>\n",
              "      <td>-120.404444</td>\n",
              "      <td>CA</td>\n",
              "      <td>2453137.5</td>\n",
              "      <td>0.25</td>\n",
              "      <td>2004-05-12</td>\n",
              "      <td>5</td>\n",
              "      <td>2</td>\n",
              "    </tr>\n",
              "    <tr>\n",
              "      <th>2</th>\n",
              "      <td>2004</td>\n",
              "      <td>5.0</td>\n",
              "      <td>Debris Burning</td>\n",
              "      <td>38.984167</td>\n",
              "      <td>-120.735556</td>\n",
              "      <td>CA</td>\n",
              "      <td>2453156.5</td>\n",
              "      <td>0.10</td>\n",
              "      <td>2004-05-31</td>\n",
              "      <td>5</td>\n",
              "      <td>0</td>\n",
              "    </tr>\n",
              "    <tr>\n",
              "      <th>3</th>\n",
              "      <td>2004</td>\n",
              "      <td>1.0</td>\n",
              "      <td>Lightning</td>\n",
              "      <td>38.559167</td>\n",
              "      <td>-119.913333</td>\n",
              "      <td>CA</td>\n",
              "      <td>2453184.5</td>\n",
              "      <td>0.10</td>\n",
              "      <td>2004-06-28</td>\n",
              "      <td>6</td>\n",
              "      <td>0</td>\n",
              "    </tr>\n",
              "    <tr>\n",
              "      <th>4</th>\n",
              "      <td>2004</td>\n",
              "      <td>1.0</td>\n",
              "      <td>Lightning</td>\n",
              "      <td>38.559167</td>\n",
              "      <td>-119.933056</td>\n",
              "      <td>CA</td>\n",
              "      <td>2453184.5</td>\n",
              "      <td>0.10</td>\n",
              "      <td>2004-06-28</td>\n",
              "      <td>6</td>\n",
              "      <td>0</td>\n",
              "    </tr>\n",
              "  </tbody>\n",
              "</table>\n",
              "</div>"
            ],
            "text/plain": [
              "   FIRE_YEAR  STAT_CAUSE_CODE STAT_CAUSE_DESCR  ...       DATE  MONTH DAY_OF_WEEK\n",
              "0       2005              9.0    Miscellaneous  ... 2005-02-02      2           2\n",
              "1       2004              1.0        Lightning  ... 2004-05-12      5           2\n",
              "2       2004              5.0   Debris Burning  ... 2004-05-31      5           0\n",
              "3       2004              1.0        Lightning  ... 2004-06-28      6           0\n",
              "4       2004              1.0        Lightning  ... 2004-06-28      6           0\n",
              "\n",
              "[5 rows x 11 columns]"
            ]
          },
          "metadata": {
            "tags": []
          },
          "execution_count": 15
        }
      ]
    },
    {
      "cell_type": "markdown",
      "metadata": {
        "id": "QcTefkn118DG",
        "colab_type": "text"
      },
      "source": [
        "Day_OF_Week with Monday=0, Sunday=6."
      ]
    },
    {
      "cell_type": "code",
      "metadata": {
        "id": "DQEUP6U6sfSB",
        "colab_type": "code",
        "colab": {}
      },
      "source": [
        "df_orig=df[['FIRE_YEAR', 'STAT_CAUSE_DESCR', 'LATITUDE',\t'LONGITUDE',\t'STATE', 'DISCOVERY_DATE', 'FIRE_SIZE',\t'MONTH', 'DAY_OF_WEEK']]"
      ],
      "execution_count": 0,
      "outputs": []
    },
    {
      "cell_type": "markdown",
      "metadata": {
        "id": "88Q3H1BF2r9O",
        "colab_type": "text"
      },
      "source": [
        "##**Exploratory data analysis**"
      ]
    },
    {
      "cell_type": "markdown",
      "metadata": {
        "id": "qJzb0Tpb3vci",
        "colab_type": "text"
      },
      "source": [
        "Doing some exploratory data analysis to see how the features are correlated, what are relevant features for our prediction and if any hidden information we can get to facilitate our prediction."
      ]
    },
    {
      "cell_type": "code",
      "metadata": {
        "id": "1LNFVbQX2xoZ",
        "colab_type": "code",
        "outputId": "23127f58-8f50-4aac-d89e-a6ab96fd823e",
        "colab": {
          "base_uri": "https://localhost:8080/",
          "height": 265
        }
      },
      "source": [
        "df['STAT_CAUSE_DESCR'].value_counts().plot(kind='barh',color='coral')\n",
        "plt.show()"
      ],
      "execution_count": 17,
      "outputs": [
        {
          "output_type": "display_data",
          "data": {
            "image/png": "[encoded data removed]",
            "text/plain": [
              "<Figure size 432x288 with 1 Axes>"
            ]
          },
          "metadata": {
            "tags": []
          }
        }
      ]
    },
    {
      "cell_type": "markdown",
      "metadata": {
        "id": "3a6-EPAh4gOx",
        "colab_type": "text"
      },
      "source": [
        "Our dataset has around 13 causes which are too many classes. May be we will try to club these causes to reduce the number of classes and see if this improves our model accuracy."
      ]
    },
    {
      "cell_type": "code",
      "metadata": {
        "id": "m4CSiUyf5aXW",
        "colab_type": "code",
        "outputId": "e89047ee-795b-4c9b-912f-cc4d5b24ec57",
        "colab": {
          "base_uri": "https://localhost:8080/",
          "height": 265
        }
      },
      "source": [
        "df['DAY_OF_WEEK'].value_counts().plot(kind='barh',color='coral')\n",
        "plt.show()"
      ],
      "execution_count": 18,
      "outputs": [
        {
          "output_type": "display_data",
          "data": {
            "image/png": "[encoded data removed]",
            "text/plain": [
              "<Figure size 432x288 with 1 Axes>"
            ]
          },
          "metadata": {
            "tags": []
          }
        }
      ]
    },
    {
      "cell_type": "markdown",
      "metadata": {
        "id": "s1mBznAc9NXt",
        "colab_type": "text"
      },
      "source": [
        "The above graph shows that on weekends (5&6) the fires discovered are slightly more. We are assuming that is because of the people being careless on weekends with campfires or smoking or probably because of some malicious intent. Now, we would like to see how fires are distributed across the weekdays because of the natural causes such as lightning."
      ]
    },
    {
      "cell_type": "code",
      "metadata": {
        "id": "D8CowBjF_WrI",
        "colab_type": "code",
        "outputId": "f6d5889e-290f-432c-e257-0c03d3d29d7b",
        "colab": {
          "base_uri": "https://localhost:8080/",
          "height": 265
        }
      },
      "source": [
        "df_lightning = df[df['STAT_CAUSE_DESCR']=='Lightning']\n",
        "df_lightning['DAY_OF_WEEK'].value_counts().plot(kind='barh',color='coral')\n",
        "plt.show()"
      ],
      "execution_count": 19,
      "outputs": [
        {
          "output_type": "display_data",
          "data": {
            "image/png": "[encoded data removed]",
            "text/plain": [
              "<Figure size 432x288 with 1 Axes>"
            ]
          },
          "metadata": {
            "tags": []
          }
        }
      ]
    },
    {
      "cell_type": "markdown",
      "metadata": {
        "id": "2EoeER3x_oG0",
        "colab_type": "text"
      },
      "source": [
        "As we can see the fires are more on weekdays now and lowered on weekends. I am imagining if the increase on weekends is due to malicious fires such as - Arson. So now we will check the fire distribution on weekdays because of Arson."
      ]
    },
    {
      "cell_type": "code",
      "metadata": {
        "id": "XfLQbeUJA96c",
        "colab_type": "code",
        "outputId": "71e022b9-8c4c-422d-b90d-65385fbdebbd",
        "colab": {
          "base_uri": "https://localhost:8080/",
          "height": 265
        }
      },
      "source": [
        "df_arson = df[df['STAT_CAUSE_DESCR']=='Arson']\n",
        "df_arson['DAY_OF_WEEK'].value_counts().plot(kind='barh',color='coral')\n",
        "plt.show()"
      ],
      "execution_count": 20,
      "outputs": [
        {
          "output_type": "display_data",
          "data": {
            "image/png": "[encoded data removed]",
            "text/plain": [
              "<Figure size 432x288 with 1 Axes>"
            ]
          },
          "metadata": {
            "tags": []
          }
        }
      ]
    },
    {
      "cell_type": "markdown",
      "metadata": {
        "id": "QkRHxqyUA9gP",
        "colab_type": "text"
      },
      "source": [
        "The above graph makes it significant that the increase in fire on weekends is because of Arson. We can see probably a 30% increase on weekends than the average of weekdays.\n",
        "\n",
        "This also proves that Day_Of_Week is an important feature to be kept in our feature set."
      ]
    },
    {
      "cell_type": "markdown",
      "metadata": {
        "id": "2g3Kt8A1p4rl",
        "colab_type": "text"
      },
      "source": [
        "###**Performing K-Means Clustering as part of EDA**"
      ]
    },
    {
      "cell_type": "markdown",
      "metadata": {
        "id": "OVP9ctxRqqQS",
        "colab_type": "text"
      },
      "source": [
        "We tried clustering based on some selected features to see if we can gain any other insights from our dataset."
      ]
    },
    {
      "cell_type": "code",
      "metadata": {
        "id": "BRb5XHaEp35D",
        "colab_type": "code",
        "colab": {}
      },
      "source": [
        "#K-means clustering on fire cause and fire size\n",
        "data = df[['FIRE_SIZE','STAT_CAUSE_CODE']]"
      ],
      "execution_count": 0,
      "outputs": []
    },
    {
      "cell_type": "markdown",
      "metadata": {
        "id": "rfStOCJRyPWe",
        "colab_type": "text"
      },
      "source": [
        "####**Using Elbow method to find optimal k**"
      ]
    },
    {
      "cell_type": "code",
      "metadata": {
        "id": "l_5gFmROoQvm",
        "colab_type": "code",
        "colab": {}
      },
      "source": [
        "# Sum_of_squared_distances = []\n",
        "# K = range(1,10)\n",
        "# for k in K:\n",
        "#     km = KMeans(n_clusters=k)\n",
        "#     km = km.fit(data)\n",
        "#     Sum_of_squared_distances.append(km.inertia_)"
      ],
      "execution_count": 0,
      "outputs": []
    },
    {
      "cell_type": "code",
      "metadata": {
        "id": "h-sFpX2hyFXE",
        "colab_type": "code",
        "colab": {}
      },
      "source": [
        "# plt.plot(K, Sum_of_squared_distances, 'bx-')\n",
        "# plt.xlabel('k')\n",
        "# plt.ylabel('Sum_of_squared_distances')\n",
        "# plt.title('Elbow Method For Optimal k')\n",
        "# plt.show()"
      ],
      "execution_count": 0,
      "outputs": []
    },
    {
      "cell_type": "markdown",
      "metadata": {
        "id": "JknjdGply9w5",
        "colab_type": "text"
      },
      "source": [
        "We got optimal k as 3."
      ]
    },
    {
      "cell_type": "markdown",
      "metadata": {
        "id": "MR_Pf_Wj9YSp",
        "colab_type": "text"
      },
      "source": [
        "####**Silhouette score analysis**"
      ]
    },
    {
      "cell_type": "code",
      "metadata": {
        "id": "BcxLgCzR4QtS",
        "colab_type": "code",
        "colab": {}
      },
      "source": [
        "# from yellowbrick.cluster import KElbowVisualizer\n",
        "# model = KMeans(random_state=0)\n",
        "# visualizer = KElbowVisualizer(model, k=(3,20), metric='silhouette', timings=False)\n",
        "\n",
        "# visualizer.fit(data)    \n",
        "# visualizer.poof() "
      ],
      "execution_count": 0,
      "outputs": []
    },
    {
      "cell_type": "markdown",
      "metadata": {
        "id": "3WaJcsHD9nRw",
        "colab_type": "text"
      },
      "source": [
        "From Silhouette score analysis we got that 3 clusters are optimal. Silhoutte score = 0.86"
      ]
    },
    {
      "cell_type": "code",
      "metadata": {
        "id": "73Gl7d1Y-SiT",
        "colab_type": "code",
        "colab": {}
      },
      "source": [
        "#Applying K-means for optimal k=3\n",
        "kmeans = KMeans(n_clusters=3)\n",
        "y = kmeans.fit_predict(data)"
      ],
      "execution_count": 0,
      "outputs": []
    },
    {
      "cell_type": "code",
      "metadata": {
        "id": "vTbsZ0aaBoAS",
        "colab_type": "code",
        "colab": {}
      },
      "source": [
        "#Adding cluster column to dataset for further analysis\n",
        "df['cluster'] = y\n",
        "df.head()"
      ],
      "execution_count": 0,
      "outputs": []
    },
    {
      "cell_type": "code",
      "metadata": {
        "id": "IkArQu8EASHX",
        "colab_type": "code",
        "colab": {}
      },
      "source": [
        "#Plotting the clusters obtained\n",
        "plt.figure(1,figsize=(15,15))\n",
        "plt.scatter(df.FIRE_SIZE, df.STAT_CAUSE_CODE, c=kmeans.labels_, cmap='rainbow')\n",
        "plt.scatter(kmeans.cluster_centers_[:,0] ,kmeans.cluster_centers_[:,1], color='black')"
      ],
      "execution_count": 0,
      "outputs": []
    },
    {
      "cell_type": "markdown",
      "metadata": {
        "id": "MF5MEh6yCDX-",
        "colab_type": "text"
      },
      "source": [
        "As we can see, the above clusters didn't obtain any meaningful information."
      ]
    },
    {
      "cell_type": "markdown",
      "metadata": {
        "id": "7ktO7ZSXCVUm",
        "colab_type": "text"
      },
      "source": [
        "**Performing k-means clustering on latitude and longitude to see the geagraphical coverage of the data**"
      ]
    },
    {
      "cell_type": "code",
      "metadata": {
        "id": "kSFlK4w_Da4l",
        "colab_type": "code",
        "colab": {}
      },
      "source": [
        "kmeans1 = KMeans(n_clusters=4,random_state=0).fit(df[['LATITUDE','LONGITUDE']])\n",
        "y_means1 = kmeans1.predict(df[['LATITUDE','LONGITUDE']])\n",
        "plt.scatter(df['LATITUDE'],df['LONGITUDE'], c=y_means1, s=50, cmap='viridis')"
      ],
      "execution_count": 0,
      "outputs": []
    },
    {
      "cell_type": "markdown",
      "metadata": {
        "id": "q36zn4_4EnIa",
        "colab_type": "text"
      },
      "source": [
        "The above plot clearly shows the map of United States and most of the fires have occurred in longitutes between -100 and -120 which is majorly California region."
      ]
    },
    {
      "cell_type": "markdown",
      "metadata": {
        "id": "qcjg2P_MFki2",
        "colab_type": "text"
      },
      "source": [
        "###**Correlation matrix**\n",
        "\n",
        "Plotting correlation matrix to get a better understanding of how the features are correlated."
      ]
    },
    {
      "cell_type": "code",
      "metadata": {
        "id": "jtsdqQZNGeeA",
        "colab_type": "code",
        "colab": {}
      },
      "source": [
        "#First converting all features to numeric\n",
        "le = preprocessing.LabelEncoder()\n",
        "df['STAT_CAUSE_DESCR'] = le.fit_transform(df['STAT_CAUSE_DESCR'])\n",
        "df['STATE'] = le.fit_transform(df['STATE'])\n",
        "df = df.drop(['cluster'], axis=1)\n",
        "df.head()"
      ],
      "execution_count": 0,
      "outputs": []
    },
    {
      "cell_type": "code",
      "metadata": {
        "id": "XWoMeQPSsDM_",
        "colab_type": "code",
        "colab": {}
      },
      "source": [
        ""
      ],
      "execution_count": 0,
      "outputs": []
    },
    {
      "cell_type": "code",
      "metadata": {
        "id": "lMHopFwvLkwK",
        "colab_type": "code",
        "colab": {}
      },
      "source": [
        "def plot_corr(df,size=10):\n",
        "    corr = df.corr()  #the default method is pearson\n",
        "    fig, ax = plt.subplots(figsize=(size, size))\n",
        "    ax.matshow(corr,cmap=plt.cm.Oranges)\n",
        "    plt.xticks(range(len(corr.columns)), corr.columns)\n",
        "    plt.yticks(range(len(corr.columns)), corr.columns)\n",
        "    for tick in ax.get_xticklabels():\n",
        "        tick.set_rotation(45)    \n",
        "    plt.show()\n",
        "    \n",
        "\n",
        "    \n",
        "plot_corr(df)"
      ],
      "execution_count": 0,
      "outputs": []
    },
    {
      "cell_type": "markdown",
      "metadata": {
        "id": "Iy08PFRMMFCR",
        "colab_type": "text"
      },
      "source": [
        "In the above plot darker shades means strong correlation wheras white shade means no correlation. We can see that month is strongly correlated to latitude wheras weakly correlated to longitide."
      ]
    },
    {
      "cell_type": "markdown",
      "metadata": {
        "id": "sp9ZmTNaRQkW",
        "colab_type": "text"
      },
      "source": [
        "##**Preparing data for Machine learning**"
      ]
    },
    {
      "cell_type": "code",
      "metadata": {
        "id": "tmT00sypkRoI",
        "colab_type": "code",
        "colab": {}
      },
      "source": [
        "models_dict={}\n",
        "models_dict['LogisticRegression']        = LogisticRegression()\n",
        "models_dict['Dtree']     = DecisionTreeClassifier()\n",
        "models_dict['NB']        = GaussianNB()\n",
        "models_dict['KNN']       = KNeighborsClassifier()\n",
        "models_dict['RForest']   = RandomForestClassifier(n_estimators=50)\n",
        "models_dict['XGB']       = XGBClassifier()"
      ],
      "execution_count": 0,
      "outputs": []
    },
    {
      "cell_type": "code",
      "metadata": {
        "id": "H3mJhSJ2h5rN",
        "colab_type": "code",
        "colab": {}
      },
      "source": [
        "#function to compare the different algorihths based on recall of model \n",
        "def compareAlgos(model_results):\n",
        "  fig = plt.figure(figsize=(11,6))\n",
        "  fig.suptitle('Algorithm Comparison')\n",
        "  ax = fig.add_subplot(111)\n",
        "  plt.boxplot([modelresult for name,modelresult in model_results.items()])\n",
        "  ax.set_xticklabels([name for name,modelresult in model_results.items()])\n",
        "  plt.show()\n",
        "\n",
        "#writing a functional api layer which takes models , trains and tests and plots comparision of those models on a graph \n",
        "def fitModelsAndPredict(models_dict,X_train,y_train,X_test,y_test):\n",
        "  accuracy={}\n",
        "  specificity={}\n",
        "  sensitivity={}\n",
        "  #models_dict holds name and its function , like {'LR':LogsticRegression()}\n",
        "  for name,model in models_dict.items():\n",
        "    try:\n",
        "      #fitting model on the train data\n",
        "      model.fit(X_train,y_train)\n",
        "      #predicting model on X_test \n",
        "      y_pred=model.predict(X_test)\n",
        "      print('*'*100)\n",
        "      print('Model:',name)\n",
        "      #printing Confusion matrix an dAccuracy of each model\n",
        "      print(\"Confusion Matrix: \",confusion_matrix(y_test, y_pred)) \n",
        "      print(\"Accuracy : \",accuracy_score(y_test,y_pred)*100)\n",
        "\n",
        "      #mainitaing a dictionary of results of accuracy of each model to use it to plot in one systyem\n",
        "      accuracy[name]=accuracy_score(y_test,y_pred)*100\n",
        "      cm=confusion_matrix(y_test, y_pred)\n",
        "      sensitivity[name] = (cm[0,0]/(cm[0,0]+cm[0,1]))*100\n",
        "      specificity[name] = (cm[1,1]/(cm[1,0]+cm[1,1]))*100\n",
        "      print(\"Classificarion Report : \")\n",
        "      print(classification_report(y_test, y_pred))\n",
        "    except ValueError:\n",
        "      print(name,'failed')\n",
        "  \n",
        "  #converting dictionaries to dataframes to have them handy\n",
        "  accuracy=pd.DataFrame.from_dict(accuracy,orient='index').reset_index()\n",
        "  sensitivity=pd.DataFrame.from_dict(sensitivity,orient='index').reset_index()\n",
        "  specificity=pd.DataFrame.from_dict(specificity,orient='index').reset_index()\n",
        "  # print(accuracy)\n",
        "  accuracy.columns=['model_name','accuracy']\n",
        "  sensitivity.columns=['model_name','sensitivity']\n",
        "  specificity.columns=['model_name','specificity']\n",
        "  \n",
        "  #plotting accuracy,sensitivity,specificity of each model\n",
        "  plt.figure(figsize=(16, 6))\n",
        "  ax = sns.lineplot(data=accuracy, x='model_name', y='accuracy',legend='full')\n",
        "  ax = sns.lineplot(data=sensitivity, x='model_name', y='sensitivity',legend='full')\n",
        "  ax = sns.lineplot(data=specificity, x='model_name', y='specificity',legend='full')\n",
        "  ax = sns.barplot(data=accuracy, x='model_name', y='accuracy')\n",
        "  plt.title('Blue :Accuracy,Orange: Senstivity,Green : Specicificity ')"
      ],
      "execution_count": 0,
      "outputs": []
    },
    {
      "cell_type": "code",
      "metadata": {
        "id": "dMYLy4nWiCgi",
        "colab_type": "code",
        "colab": {}
      },
      "source": [
        "df_orig"
      ],
      "execution_count": 0,
      "outputs": []
    },
    {
      "cell_type": "code",
      "metadata": {
        "id": "JUtJi2U5RQK8",
        "colab_type": "code",
        "colab": {}
      },
      "source": [
        "df = df.drop('DATE',axis=1)\n",
        "df = df.drop('STAT_CAUSE_CODE', axis=1)\n",
        "df = df.dropna()"
      ],
      "execution_count": 0,
      "outputs": []
    },
    {
      "cell_type": "code",
      "metadata": {
        "id": "z-LurgnLWKN2",
        "colab_type": "code",
        "colab": {}
      },
      "source": [
        "X = df.drop(['STAT_CAUSE_DESCR'], axis=1).values\n",
        "Y = df['STAT_CAUSE_DESCR'].values"
      ],
      "execution_count": 0,
      "outputs": []
    },
    {
      "cell_type": "code",
      "metadata": {
        "id": "WfrmO8ekWQcQ",
        "colab_type": "code",
        "colab": {}
      },
      "source": [
        "import sklearn.ensemble as ske\n",
        "from sklearn.model_selection import train_test_split"
      ],
      "execution_count": 0,
      "outputs": []
    },
    {
      "cell_type": "markdown",
      "metadata": {
        "id": "f51CZYiFrNuD",
        "colab_type": "text"
      },
      "source": [
        "####**Applying Random Forest Classifier on base dataset with 13 classes in target variable**"
      ]
    },
    {
      "cell_type": "code",
      "metadata": {
        "id": "KrFq7w8Eh0HF",
        "colab_type": "code",
        "colab": {}
      },
      "source": [
        "X_train, X_test, y_train, y_test = train_test_split(X, Y, test_size=0.4, random_state=1)\n",
        "fitModelsAndPredict(models_dict,X_train,y_train,X_test,y_test)"
      ],
      "execution_count": 0,
      "outputs": []
    },
    {
      "cell_type": "markdown",
      "metadata": {
        "id": "BYYtE-Pru3Wd",
        "colab_type": "text"
      },
      "source": [
        "###**Importing amalgamated fire dataset which contains weather related columns such as Temperature, Precipitation, Snow etc. The weatherDataLoad.ipynb file contains the script to fetch data from National Oceanic and Atmospheric Administration (ncdc.novaa.gov website).**"
      ]
    },
    {
      "cell_type": "code",
      "metadata": {
        "id": "RfnN2PDAFR7E",
        "colab_type": "code",
        "colab": {}
      },
      "source": [
        "amal_df = pd.read_csv('AmalgamatedFireDataset.csv')\n",
        "amal_df=amal_df[['FIRE_YEAR', 'STAT_CAUSE_DESCR', 'LATITUDE', 'LONGITUDE', 'STATE', 'DISCOVERY_DATE', 'FIRE_SIZE_x', 'discovery_month', 'discovery_weekday', 'TMAX', 'PRCP', 'TOBS', 'SNOW']]\n",
        "\n",
        "amal_df['STAT_CAUSE_DESCR'] = le.fit_transform(amal_df['STAT_CAUSE_DESCR'])\n",
        "amal_df['STATE'] = le.fit_transform(amal_df['STATE'])\n",
        "amal_df['discovery_month'] = le.fit_transform(amal_df['discovery_month'])\n",
        "amal_df['discovery_weekday'] = le.fit_transform(amal_df['discovery_weekday'])"
      ],
      "execution_count": 0,
      "outputs": []
    },
    {
      "cell_type": "code",
      "metadata": {
        "id": "E-GOq4ecl5MA",
        "colab_type": "code",
        "colab": {}
      },
      "source": [
        "X = amal_df.drop(['STAT_CAUSE_DESCR'], axis=1).values\n",
        "Y = amal_df['STAT_CAUSE_DESCR']"
      ],
      "execution_count": 0,
      "outputs": []
    },
    {
      "cell_type": "code",
      "metadata": {
        "id": "JWHZ9H82h3N3",
        "colab_type": "code",
        "colab": {}
      },
      "source": [
        "X_train, X_test, y_train, y_test = train_test_split(X, Y, test_size=0.2, random_state=1)\n",
        "fitModelsAndPredict(models_dict,X_train,y_train,X_test,y_test)"
      ],
      "execution_count": 0,
      "outputs": []
    },
    {
      "cell_type": "code",
      "metadata": {
        "id": "MSD7g1jcSAPw",
        "colab_type": "code",
        "colab": {}
      },
      "source": [
        "def set_label(cat):\n",
        "    cause = 0\n",
        "    natural = ['Lightning']\n",
        "    accidental = ['Arson','Structure','Fireworks','Powerline','Railroad','Smoking','Children','Campfire','Equipment Use','Debris Burning']\n",
        "    other = ['Missing/Undefined','Miscellaneous']\n",
        "    if cat in natural:\n",
        "        cause = 1\n",
        "    elif cat in accidental:\n",
        "        cause = 2\n",
        "    else:\n",
        "        cause = 3\n",
        "    return cause"
      ],
      "execution_count": 0,
      "outputs": []
    },
    {
      "cell_type": "code",
      "metadata": {
        "id": "0_CdeRktoGol",
        "colab_type": "code",
        "colab": {}
      },
      "source": [
        "models_dict['SVC']       = SVC(gamma='auto')"
      ],
      "execution_count": 0,
      "outputs": []
    },
    {
      "cell_type": "code",
      "metadata": {
        "id": "-KkosO3rk5t8",
        "colab_type": "code",
        "colab": {}
      },
      "source": [
        "amal_df = pd.read_csv('AmalgamatedFireDataset.csv')\n",
        "amal_df=amal_df[['FIRE_YEAR', 'STAT_CAUSE_DESCR', 'LATITUDE', 'LONGITUDE', 'STATE', 'DISCOVERY_DATE', 'FIRE_SIZE_x', 'discovery_month', 'discovery_weekday', 'TMAX', 'PRCP', 'TOBS', 'SNOW']]\n",
        "\n",
        "amal_df['STAT_CAUSE_DESCR'] = le.fit_transform(amal_df['STAT_CAUSE_DESCR'])\n",
        "amal_df['STATE'] = le.fit_transform(amal_df['STATE'])\n",
        "amal_df['discovery_month'] = le.fit_transform(amal_df['discovery_month'])\n",
        "amal_df['discovery_weekday'] = le.fit_transform(amal_df['discovery_weekday'])\n",
        "\n",
        "\n",
        "X = amal_df.drop(['STAT_CAUSE_DESCR'], axis=1).values\n",
        "Y = amal_df_orig['STAT_CAUSE_DESCR'].apply(lambda x: set_label(x))"
      ],
      "execution_count": 0,
      "outputs": []
    },
    {
      "cell_type": "code",
      "metadata": {
        "id": "fMD5cvHNfRU-",
        "colab_type": "code",
        "colab": {}
      },
      "source": [
        "pca = PCA(n_components=0.999)\n",
        "pca.fit(X)\n",
        "X_pca = pca.transform(X)\n",
        "print(\"original shape:   \", X.shape)\n",
        "print(\"transformed shape:\", X_pca.shape)"
      ],
      "execution_count": 0,
      "outputs": []
    },
    {
      "cell_type": "code",
      "metadata": {
        "id": "DUEKbTgKfo_H",
        "colab_type": "code",
        "colab": {}
      },
      "source": [
        "X_train, X_test, y_train, y_test = train_test_split(X, Y, test_size=0.2, random_state=1)\n",
        "fitModelsAndPredict(models_dict,X_train,y_train,X_test,y_test)"
      ],
      "execution_count": 0,
      "outputs": []
    },
    {
      "cell_type": "code",
      "metadata": {
        "id": "oIrcslh-qh1y",
        "colab_type": "code",
        "colab": {}
      },
      "source": [
        ""
      ],
      "execution_count": 0,
      "outputs": []
    }
  ]
}